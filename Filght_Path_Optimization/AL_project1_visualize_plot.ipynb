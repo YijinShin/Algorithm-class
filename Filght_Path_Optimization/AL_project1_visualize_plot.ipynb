{
 "cells": [
  {
   "cell_type": "markdown",
   "id": "3452988b",
   "metadata": {},
   "source": [
    "# All path\n",
    "\n",
    "- lines_zip : 모든 경로 리스트\n",
    "- lines_x : 모든 경로의 x좌표 값\n",
    "- lines_y : 모든 경로의 y좌표 값\n",
    "- edges : 모든 edge 리스트"
   ]
  },
  {
   "cell_type": "code",
   "execution_count": 1,
   "id": "45346695",
   "metadata": {
    "scrolled": true
   },
   "outputs": [
    {
     "name": "stdout",
     "output_type": "stream",
     "text": [
      "['Incheon', 'International', 'ICN', 'RKSI', '126.4498', '37.4465']\n",
      "['Jeju', 'International', 'CJU', 'RKPC', '126.4928', '33.5111']\n",
      "['Cheongju', 'International', 'CJJ', 'RKTU', '127.4989', '36.7164']\n",
      "['Yangyang', 'International', 'YNY', 'RKNY', '128.6689', '38.0611']\n",
      "['Pohang', 'Domestic', 'KPO', 'RKTH', '129.4205', '35.9879']\n",
      "['Gimhae', 'International', 'PUS', 'RKPK', '128.9381', '35.1794']\n"
     ]
    }
   ],
   "source": [
    "import csv\n",
    "f = open('South_Korea_airport_toy_example.csv','r')\n",
    "next(f) ## 첫째줄 건너뛰기\n",
    "rdr = csv.reader(f)\n",
    "lines_zip = list()    \n",
    "\n",
    "for line in rdr:\n",
    "    lines_zip.append([line[4], line[5]])\n",
    "    print(line)\n",
    " \n",
    "f.close()"
   ]
  },
  {
   "cell_type": "code",
   "execution_count": 2,
   "id": "c06c0764",
   "metadata": {},
   "outputs": [
    {
     "name": "stdout",
     "output_type": "stream",
     "text": [
      "[[126.4498, 37.4465], [126.4928, 33.5111], [127.4989, 36.7164], [128.6689, 38.0611], [129.4205, 35.9879], [128.9381, 35.1794]]\n",
      "[126.4498, 126.4928, 127.4989, 128.6689, 129.4205, 128.9381]\n",
      "[37.4465, 33.5111, 36.7164, 38.0611, 35.9879, 35.1794]\n"
     ]
    }
   ],
   "source": [
    "## 문자열 -> float\n",
    "edges = [list(map(float, x)) for x in lines_zip]\n",
    "print(edges)\n",
    "\n",
    "lines_x = list() # 모든 경로의 x좌표 값\n",
    "lines_y = list() # 모든 경로의 y좌표 값\n",
    "\n",
    "for i in edges:\n",
    "    lines_x.append(i[0]) # x좌표값만 저장 \n",
    "    lines_y.append(i[1]) # y좌표값만 저장\n",
    "print(lines_x)\n",
    "print(lines_y)  "
   ]
  },
  {
   "cell_type": "code",
   "execution_count": 3,
   "id": "099d093a",
   "metadata": {},
   "outputs": [
    {
     "data": {
      "image/png": "[encoded data removed]",
      "text/plain": [
       "<Figure size 432x432 with 1 Axes>"
      ]
     },
     "metadata": {
      "needs_background": "light"
     },
     "output_type": "display_data"
    }
   ],
   "source": [
    "import matplotlib.pyplot as plt\n",
    "import matplotlib.ticker as ticker\n",
    "from matplotlib import collections\n",
    "import csv\n",
    "\n",
    "a = (126.4498, 37.4465) #1 Incheon\n",
    "b = (126.4928, 33.5111) #2 Jeju\n",
    "c = (127.4989, 36.7164) #3 Cheongju\n",
    "d = (128.6689, 38.0611) #4 Yangyang\n",
    "f = (128.9381, 35.1794) #5 pohang\n",
    "e = (129.4205, 35.9879) #6 Gimhae\n",
    "\n",
    "## 주어진 vertex 9개\n",
    "vertex = list()\n",
    "vertex.append([a, b])\n",
    "vertex.append([a, c])\n",
    "vertex.append([a, d])\n",
    "vertex.append([b, c])\n",
    "vertex.append([b, f])\n",
    "vertex.append([c, f])\n",
    "vertex.append([c, e])\n",
    "vertex.append([d, e])\n",
    "vertex.append([f, e])\n",
    "\n",
    "lines=collections.LineCollection(vertex,  linestyles='dotted', linewidth=1, color = 'black')\n",
    "\n",
    "fig,axes=plt.subplots(figsize=(6,6))\n",
    "plt.grid(True)\n",
    "plt.xlabel('Longitude (deg)')\n",
    "plt.ylabel('Latitude (deg)')\n",
    "axes.tick_params(axis='x', labelsize=10)\n",
    "axes.tick_params(axis='y', labelsize=10)\n",
    "axes.xaxis.set_major_locator(ticker.MultipleLocator(0.5))\n",
    "axes.yaxis.set_major_locator(ticker.MultipleLocator(1))\n",
    "axes.add_collection(lines)\n",
    "plt.scatter(lines_x, lines_y, marker='o', color='black', s=10)\n",
    "axes.autoscale()\n",
    "plt.show()\n",
    "# plt.savefig('South_Korea_airport_toy_example.jpg')"
   ]
  },
  {
   "cell_type": "markdown",
   "id": "fa64e3aa",
   "metadata": {},
   "source": [
    "# Shortest_path"
   ]
  },
  {
   "cell_type": "code",
   "execution_count": 4,
   "id": "fdc6ff8b",
   "metadata": {
    "scrolled": true
   },
   "outputs": [
    {
     "name": "stdout",
     "output_type": "stream",
     "text": [
      "['1', '2', '6', '5']\n"
     ]
    }
   ],
   "source": [
    "import csv\n",
    "##f = open('shortest_path.csv','r') ## Weather를 고려하지 않을 경우\n",
    "f = open('shortest_path_weather.csv','r') ## Weather를 고려하지 않을 경우\n",
    "rdr = csv.reader(f)\n",
    "\n",
    "# 한줄씩 읽어오기\n",
    "for line in rdr:\n",
    "    print(line)\n",
    " \n",
    "f.close()"
   ]
  },
  {
   "cell_type": "code",
   "execution_count": 5,
   "id": "0e5a25c3",
   "metadata": {},
   "outputs": [
    {
     "name": "stdout",
     "output_type": "stream",
     "text": [
      "['1', '2']\n",
      "['2', '6']\n",
      "['6', '5']\n",
      "[1, 2]\n",
      "[2, 6]\n",
      "[6, 5]\n"
     ]
    }
   ],
   "source": [
    "## shortest_path가 저장될 리스트\n",
    "lines = list()\n",
    "## 경로 저장 (문자열로 저장됨)\n",
    "for i in range(0,len(line)):\n",
    "    if(i+1 != len(line)):\n",
    "        lines.append([line[i], line[i+1]])\n",
    "        print(lines[i])\n",
    "\n",
    "## 문자열 -> Int    \n",
    "lines = [list(map(int, x)) for x in lines]\n",
    "\n",
    "for i in range(0,len(line)):\n",
    "    if(i+1 != len(line)):\n",
    "        print(lines[i])"
   ]
  },
  {
   "cell_type": "code",
   "execution_count": 6,
   "id": "6ad42b0f",
   "metadata": {},
   "outputs": [
    {
     "name": "stdout",
     "output_type": "stream",
     "text": [
      "[[[126.4498, 37.4465], [126.4928, 33.5111]], [[126.4928, 33.5111], [128.9381, 35.1794]], [[128.9381, 35.1794], [129.4205, 35.9879]]]\n"
     ]
    }
   ],
   "source": [
    "shortest_lines_zip = list()\n",
    "\n",
    "for i in range(0, len(lines)):\n",
    "    ## lines에서는 0번부터 시작하므로 1씩 빼준다.\n",
    "    shortest_lines_zip.append([edges[lines[i][0]-1], edges[lines[i][1]-1]])\n",
    "    \n",
    "print(shortest_lines_zip)"
   ]
  },
  {
   "cell_type": "code",
   "execution_count": 7,
   "id": "bfffb5e4",
   "metadata": {
    "scrolled": false
   },
   "outputs": [
    {
     "data": {
      "image/png": "[encoded data removed]",
      "text/plain": [
       "<Figure size 432x432 with 1 Axes>"
      ]
     },
     "metadata": {
      "needs_background": "light"
     },
     "output_type": "display_data"
    }
   ],
   "source": [
    "import matplotlib.pyplot as plt\n",
    "import matplotlib.ticker as ticker\n",
    "from matplotlib import collections\n",
    "import csv\n",
    "\n",
    "lines_draw=collections.LineCollection(shortest_lines_zip,  linestyles='dotted', linewidth=1, color = 'blue')\n",
    "\n",
    "fig,axes=plt.subplots(figsize=(6,6))\n",
    "plt.grid(True)\n",
    "plt.xlabel('Longitude (deg)')\n",
    "plt.ylabel('Latitude (deg)')\n",
    "\n",
    "axes.tick_params(axis='x', labelsize=10)\n",
    "axes.tick_params(axis='y', labelsize=10)\n",
    "axes.xaxis.set_major_locator(ticker.MultipleLocator(0.5))\n",
    "axes.yaxis.set_major_locator(ticker.MultipleLocator(1))\n",
    "axes.add_collection(lines_draw)\n",
    "plt.scatter(lines_x, lines_y, marker='o', color='black', s=10)\n",
    "axes.autoscale()"
   ]
  },
  {
   "cell_type": "markdown",
   "id": "db55d948",
   "metadata": {},
   "source": [
    "# save_result_plot"
   ]
  },
  {
   "cell_type": "code",
   "execution_count": 8,
   "id": "683fec2d",
   "metadata": {},
   "outputs": [
    {
     "data": {
      "text/plain": [
       "<Figure size 432x288 with 0 Axes>"
      ]
     },
     "metadata": {},
     "output_type": "display_data"
    }
   ],
   "source": [
    "#plt.savefig('shortest_path.png')\n",
    "plt.savefig('shortest_path_weather.jpg')"
   ]
  }
 ],
 "metadata": {
  "kernelspec": {
   "display_name": "Python 3 (ipykernel)",
   "language": "python",
   "name": "python3"
  },
  "language_info": {
   "codemirror_mode": {
    "name": "ipython",
    "version": 3
   },
   "file_extension": ".py",
   "mimetype": "text/x-python",
   "name": "python",
   "nbconvert_exporter": "python",
   "pygments_lexer": "ipython3",
   "version": "3.9.7"
  }
 },
 "nbformat": 4,
 "nbformat_minor": 5
}

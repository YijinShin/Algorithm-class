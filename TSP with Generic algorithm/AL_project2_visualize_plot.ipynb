{
 "cells": [
  {
   "cell_type": "markdown",
   "id": "3452988b",
   "metadata": {},
   "source": [
    "# All path\n",
    "\n",
    "- vertex_zip : 모든 vertex 리스트\n",
    "- vertex_x : 모든 vertex의 x좌표 값\n",
    "- vertex_y : 모든 vertex의 y좌표 값\n",
    "- vertices : 모든 vertex 리스트"
   ]
  },
  {
   "cell_type": "code",
   "execution_count": 19,
   "id": "45346695",
   "metadata": {
    "scrolled": true
   },
   "outputs": [
    {
     "name": "stdout",
     "output_type": "stream",
     "text": [
      "['0', '33.665568', '-84.41107']\n",
      "['1', '33.76494', '-84.371819']\n",
      "['2', '33.770889', '-84.358622']\n",
      "['3', '34.233391', '-84.103278']\n",
      "['4', '33.921088', '-84.337342']\n",
      "['5', '34.087634', '-84.530646']\n",
      "['6', '33.683084', '-84.442307']\n",
      "['7', '33.968483', '-84.204487']\n",
      "['8', '33.809946', '-84.438909']\n",
      "['9', '34.070898', '-84.277636']\n",
      "['10', '33.903368', '-84.376924']\n",
      "['11', '33.836703', '-84.481173']\n",
      "['12', '33.792891', '-84.396721']\n",
      "['13', '33.975761', '-84.265625']\n",
      "['14', '34.00283', '-84.146049']\n",
      "['15', '34.091985', '-84.275997']\n",
      "['16', '33.78851', '-84.36926']\n",
      "['17', '33.87213', '-84.26165']\n",
      "['18', '34.003208', '-84.040883']\n",
      "['19', '33.936017', '-84.388948']\n"
     ]
    }
   ],
   "source": [
    "import csv\n",
    "f = open('Atlanta.csv','r')\n",
    "next(f) ## 첫째줄 건너뛰기\n",
    "rdr = csv.reader(f)\n",
    "vertex_zip = list()    \n",
    "\n",
    "for vertex in rdr:\n",
    "    vertex_zip.append([vertex[0], vertex[1], vertex[2]])\n",
    "    print(vertex)\n",
    " \n",
    "f.close()"
   ]
  },
  {
   "cell_type": "code",
   "execution_count": 21,
   "id": "c06c0764",
   "metadata": {},
   "outputs": [
    {
     "name": "stdout",
     "output_type": "stream",
     "text": [
      "[[0.0, 33.665568, -84.41107], [1.0, 33.76494, -84.371819], [2.0, 33.770889, -84.358622], [3.0, 34.233391, -84.103278], [4.0, 33.921088, -84.337342], [5.0, 34.087634, -84.530646], [6.0, 33.683084, -84.442307], [7.0, 33.968483, -84.204487], [8.0, 33.809946, -84.438909], [9.0, 34.070898, -84.277636], [10.0, 33.903368, -84.376924], [11.0, 33.836703, -84.481173], [12.0, 33.792891, -84.396721], [13.0, 33.975761, -84.265625], [14.0, 34.00283, -84.146049], [15.0, 34.091985, -84.275997], [16.0, 33.78851, -84.36926], [17.0, 33.87213, -84.26165], [18.0, 34.003208, -84.040883], [19.0, 33.936017, -84.388948]]\n",
      "[0.0, 1.0, 2.0, 3.0, 4.0, 5.0, 6.0, 7.0, 8.0, 9.0, 10.0, 11.0, 12.0, 13.0, 14.0, 15.0, 16.0, 17.0, 18.0, 19.0]\n",
      "[-84.41107, -84.371819, -84.358622, -84.103278, -84.337342, -84.530646, -84.442307, -84.204487, -84.438909, -84.277636, -84.376924, -84.481173, -84.396721, -84.265625, -84.146049, -84.275997, -84.36926, -84.26165, -84.040883, -84.388948]\n",
      "[33.665568, 33.76494, 33.770889, 34.233391, 33.921088, 34.087634, 33.683084, 33.968483, 33.809946, 34.070898, 33.903368, 33.836703, 33.792891, 33.975761, 34.00283, 34.091985, 33.78851, 33.87213, 34.003208, 33.936017]\n"
     ]
    }
   ],
   "source": [
    "## 문자열 -> float\n",
    "vertices = [list(map(float, x)) for x in vertex_zip]\n",
    "print(vertices)\n",
    "\n",
    "vertex_x = list() # 모든 vertex의 x좌표 값\n",
    "vertex_y = list() # 모든 vertex의 y좌표 값\n",
    "vertex_num = list() #모든 vertex의 index\n",
    "\n",
    "for i in vertices:\n",
    "    vertex_num.append(i[0]) #vertex의 index만 저장\n",
    "    vertex_x.append(i[2]) # x좌표값만 저장 \n",
    "    vertex_y.append(i[1]) # y좌표값만 저장\n",
    "print(vertex_num)\n",
    "print(vertex_x)\n",
    "print(vertex_y)  "
   ]
  },
  {
   "cell_type": "code",
   "execution_count": 48,
   "id": "099d093a",
   "metadata": {},
   "outputs": [
    {
     "data": {
      "image/png": "[encoded data removed]",
      "text/plain": [
       "<Figure size 864x576 with 1 Axes>"
      ]
     },
     "metadata": {
      "needs_background": "light"
     },
     "output_type": "display_data"
    }
   ],
   "source": [
    "import matplotlib.pyplot as plt\n",
    "import matplotlib.ticker as ticker\n",
    "from matplotlib import collections\n",
    "import csv\n",
    "\n",
    "## 주어진 vertex\n",
    "##vertex = list()\n",
    "\n",
    "##lines=collections.LineCollection(vertex,  linestyles='dotted', linewidth=1, color = 'black')\n",
    "\n",
    "fig,axes=plt.subplots(figsize=(12,8))\n",
    "plt.grid(True)\n",
    "plt.xlabel('Longitude (deg)')\n",
    "plt.ylabel('Latitude (deg)')\n",
    "axes.tick_params(axis='x', labelsize=10)\n",
    "axes.tick_params(axis='y', labelsize=10)\n",
    "axes.xaxis.set_major_locator(ticker.MultipleLocator(0.1))\n",
    "axes.yaxis.set_major_locator(ticker.MultipleLocator(0.1))\n",
    "##axes.add_collection(lines)\n",
    "plt.scatter(vertex_x, vertex_y, marker='o', color='black', s=10)\n",
    "\n",
    "for i in range(len(vertex_num)):\n",
    "    height = vertex_y[i]\n",
    "    plt.text(vertex_x[i], height + 0.005, '%d' %vertex_num[i], ha='left', va='baseline', size = 12)\n",
    "\n",
    "\n",
    "\n",
    "axes.autoscale()\n",
    "#plt.show()\n",
    "#plt.savefig('South_Korea_airport_toy_example.jpg')"
   ]
  },
  {
   "cell_type": "markdown",
   "id": "fa64e3aa",
   "metadata": {},
   "source": [
    "# Shortest_path"
   ]
  },
  {
   "cell_type": "code",
   "execution_count": 60,
   "id": "fdc6ff8b",
   "metadata": {
    "scrolled": true
   },
   "outputs": [
    {
     "name": "stdout",
     "output_type": "stream",
     "text": [
      "['2', '1', '4']\n"
     ]
    }
   ],
   "source": [
    "import csv\n",
    "#f = open('shortest_path.csv','r') ## Weather를 고려하지 않을 경우\n",
    "f = open('shortest_path_weather.csv','r') ## Weather를 고려할 경우\n",
    "rdr = csv.reader(f)\n",
    "\n",
    "# 한줄씩 읽어오기\n",
    "for line in rdr:\n",
    "    print(line)\n",
    " \n",
    "f.close()"
   ]
  },
  {
   "cell_type": "code",
   "execution_count": 61,
   "id": "0e5a25c3",
   "metadata": {},
   "outputs": [
    {
     "name": "stdout",
     "output_type": "stream",
     "text": [
      "['2', '1']\n",
      "['1', '4']\n",
      "[2, 1]\n",
      "[1, 4]\n"
     ]
    }
   ],
   "source": [
    "## shortest_path가 저장될 리스트\n",
    "lines = list()\n",
    "## 경로 저장 (문자열로 저장됨)\n",
    "for i in range(0,len(line)):\n",
    "    if(i+1 != len(line)):\n",
    "        lines.append([line[i], line[i+1]])\n",
    "        print(lines[i])\n",
    "\n",
    "## 문자열 -> Int    \n",
    "lines = [list(map(int, x)) for x in lines]\n",
    "\n",
    "for i in range(0,len(line)):\n",
    "    if(i+1 != len(line)):\n",
    "        print(lines[i])"
   ]
  },
  {
   "cell_type": "code",
   "execution_count": 62,
   "id": "6ad42b0f",
   "metadata": {},
   "outputs": [
    {
     "name": "stdout",
     "output_type": "stream",
     "text": [
      "[[[126.4928, 33.5111], [126.4498, 37.4465]], [[126.4498, 37.4465], [128.6689, 38.0611]]]\n"
     ]
    }
   ],
   "source": [
    "shortest_lines_zip = list()\n",
    "\n",
    "for i in range(0, len(lines)):\n",
    "    ## lines에서는 0번부터 시작하므로 1씩 빼준다.\n",
    "    shortest_lines_zip.append([edges[lines[i][0]-1], edges[lines[i][1]-1]])\n",
    "    \n",
    "print(shortest_lines_zip)"
   ]
  },
  {
   "cell_type": "code",
   "execution_count": 65,
   "id": "bfffb5e4",
   "metadata": {
    "scrolled": false
   },
   "outputs": [
    {
     "data": {
      "image/png": "[encoded data removed]",
      "text/plain": [
       "<Figure size 432x432 with 1 Axes>"
      ]
     },
     "metadata": {
      "needs_background": "light"
     },
     "output_type": "display_data"
    }
   ],
   "source": [
    "import matplotlib.pyplot as plt\n",
    "import matplotlib.ticker as ticker\n",
    "from matplotlib import collections\n",
    "import csv\n",
    "\n",
    "lines_draw=collections.LineCollection(shortest_lines_zip,  linestyles='dotted', linewidth=2, color = 'blue')\n",
    "\n",
    "fig,axes=plt.subplots(figsize=(6,6))\n",
    "plt.grid(True)\n",
    "plt.xlabel('Longitude (deg)')\n",
    "plt.ylabel('Latitude (deg)')\n",
    "\n",
    "axes.tick_params(axis='x', labelsize=10)\n",
    "axes.tick_params(axis='y', labelsize=10)\n",
    "axes.xaxis.set_major_locator(ticker.MultipleLocator(0.5))\n",
    "axes.yaxis.set_major_locator(ticker.MultipleLocator(1))\n",
    "axes.add_collection(lines_draw)\n",
    "plt.scatter(lines_x, lines_y, marker='o', color='black', s=10)\n",
    "axes.autoscale()\n",
    "#plt.savefig('shortest_path.png') ## Weather를 고려하지 않을 경우\n",
    "plt.savefig('shortest_path_weather.jpg') ## Weather를 고려할 경우"
   ]
  }
 ],
 "metadata": {
  "kernelspec": {
   "display_name": "Python 3 (ipykernel)",
   "language": "python",
   "name": "python3"
  },
  "language_info": {
   "codemirror_mode": {
    "name": "ipython",
    "version": 3
   },
   "file_extension": ".py",
   "mimetype": "text/x-python",
   "name": "python",
   "nbconvert_exporter": "python",
   "pygments_lexer": "ipython3",
   "version": "3.9.7"
  }
 },
 "nbformat": 4,
 "nbformat_minor": 5
}
